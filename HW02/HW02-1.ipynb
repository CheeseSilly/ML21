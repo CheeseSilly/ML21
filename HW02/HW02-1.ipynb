{
  "nbformat": 4,
  "nbformat_minor": 0,
  "metadata": {
    "colab": {
      "name": "SHARE MLSpring2021 - HW2-1.ipynb",
      "provenance": [],
      "gpuType": "T4",
      "include_colab_link": true
    },
    "kernelspec": {
      "display_name": "Python 3",
      "name": "python3"
    },
    "accelerator": "GPU"
  },
  "cells": [
    {
      "cell_type": "markdown",
      "metadata": {
        "id": "view-in-github",
        "colab_type": "text"
      },
      "source": [
        "<a href=\"https://colab.research.google.com/github/CheeseSilly/ML21/blob/master/HW02/HW02-1.ipynb\" target=\"_parent\"><img src=\"https://colab.research.google.com/assets/colab-badge.svg\" alt=\"Open In Colab\"/></a>"
      ]
    },
    {
      "cell_type": "markdown",
      "metadata": {
        "id": "OYlaRwNu7ojq"
      },
      "source": [
        "# **Homework 2-1 Phoneme Classification**\n",
        "\n",
        "* Slides: https://speech.ee.ntu.edu.tw/~hylee/ml/ml2021-course-data/hw/HW02/HW02.pdf\n",
        "* Video (Chinese): https://youtu.be/PdjXnQbu2zo\n",
        "* Video (English): https://youtu.be/ESRr-VCykBs\n"
      ]
    },
    {
      "cell_type": "markdown",
      "metadata": {
        "id": "emUd7uS7crTz"
      },
      "source": [
        "## The DARPA TIMIT Acoustic-Phonetic Continuous Speech Corpus (TIMIT)\n",
        "The TIMIT corpus of reading speech has been designed to provide speech data for the acquisition of acoustic-phonetic knowledge and for the development and evaluation of automatic speech recognition systems.\n",
        "\n",
        "This homework is a multiclass classification task,\n",
        "we are going to train a deep neural network classifier to predict the phonemes for each frame from the speech corpus TIMIT.\n",
        "\n",
        "link: https://academictorrents.com/details/34e2b78745138186976cbc27939b1b34d18bd5b3"
      ]
    },
    {
      "cell_type": "markdown",
      "metadata": {
        "id": "KVUGfWTo7_Oj"
      },
      "source": [
        "## Download Data\n",
        "Download data from google drive, then unzip it.\n",
        "\n",
        "You should have `timit_11/train_11.npy`, `timit_11/train_label_11.npy`, and `timit_11/test_11.npy` after running this block.<br><br>\n",
        "`timit_11/`\n",
        "- `train_11.npy`: training data<br>\n",
        "- `train_label_11.npy`: training label<br>\n",
        "- `test_11.npy`:  testing data<br><br>\n",
        "\n",
        "**notes: if the google drive link is dead, you can download the data directly from Kaggle and upload it to the workspace**\n",
        "\n",
        "\n"
      ]
    },
    {
      "cell_type": "code",
      "metadata": {
        "colab": {
          "base_uri": "https://localhost:8080/"
        },
        "id": "OzkiMEcC3Foq",
        "outputId": "3ec2f76a-67ac-42bb-e1f0-df74729c9e4b"
      },
      "source": [
        "!gdown --id '1HPkcmQmFGu-3OknddKIa5dNDsR05lIQR' --output data.zip\n",
        "!unzip data.zip\n",
        "!ls"
      ],
      "execution_count": 1,
      "outputs": [
        {
          "output_type": "stream",
          "name": "stdout",
          "text": [
            "/usr/local/lib/python3.11/dist-packages/gdown/__main__.py:140: FutureWarning: Option `--id` was deprecated in version 4.3.1 and will be removed in 5.0. You don't need to pass it anymore to use a file ID.\n",
            "  warnings.warn(\n",
            "Downloading...\n",
            "From (original): https://drive.google.com/uc?id=1HPkcmQmFGu-3OknddKIa5dNDsR05lIQR\n",
            "From (redirected): https://drive.google.com/uc?id=1HPkcmQmFGu-3OknddKIa5dNDsR05lIQR&confirm=t&uuid=6ef5672d-e26a-4848-b8ee-6980ac1c6d5e\n",
            "To: /content/data.zip\n",
            "100% 372M/372M [00:08<00:00, 42.7MB/s]\n",
            "Archive:  data.zip\n",
            "   creating: timit_11/\n",
            "  inflating: timit_11/train_11.npy   \n",
            "  inflating: timit_11/test_11.npy    \n",
            "  inflating: timit_11/train_label_11.npy  \n",
            "data.zip  sample_data  timit_11\n"
          ]
        }
      ]
    },
    {
      "cell_type": "markdown",
      "metadata": {
        "id": "_L_4anls8Drv"
      },
      "source": [
        "## Preparing Data\n",
        "Load the training and testing data from the `.npy` file (NumPy array)."
      ]
    },
    {
      "cell_type": "code",
      "metadata": {
        "colab": {
          "base_uri": "https://localhost:8080/"
        },
        "id": "IJjLT8em-y9G",
        "outputId": "6f0a5845-c9b1-44cb-ffac-e5d0fade5053"
      },
      "source": [
        "import numpy as np\n",
        "\n",
        "print('Loading data ...')\n",
        "\n",
        "data_root='./timit_11/'\n",
        "train = np.load(data_root + 'train_11.npy')\n",
        "train_label = np.load(data_root + 'train_label_11.npy')\n",
        "test = np.load(data_root + 'test_11.npy')\n",
        "\n",
        "print('Size of training data: {}'.format(train.shape))\n",
        "print('Size of testing data: {}'.format(test.shape))"
      ],
      "execution_count": 2,
      "outputs": [
        {
          "output_type": "stream",
          "name": "stdout",
          "text": [
            "Loading data ...\n",
            "Size of training data: (1229932, 429)\n",
            "Size of testing data: (451552, 429)\n"
          ]
        }
      ]
    },
    {
      "cell_type": "markdown",
      "metadata": {
        "id": "us5XW_x6udZQ"
      },
      "source": [
        "## Create Dataset"
      ]
    },
    {
      "cell_type": "code",
      "metadata": {
        "id": "Fjf5EcmJtf4e"
      },
      "source": [
        "import torch\n",
        "from torch.utils.data import Dataset\n",
        "\n",
        "class TIMITDataset(Dataset):\n",
        "    def __init__(self, X, y=None):\n",
        "        self.data = torch.from_numpy(X).float()\n",
        "        if y is not None:\n",
        "            y = y.astype(np.int64)\n",
        "            self.label = torch.LongTensor(y)\n",
        "        else:\n",
        "            self.label = None\n",
        "\n",
        "    def __getitem__(self, idx):\n",
        "        if self.label is not None:\n",
        "            return self.data[idx], self.label[idx]\n",
        "        else:\n",
        "            return self.data[idx]\n",
        "\n",
        "    def __len__(self):\n",
        "        return len(self.data)\n"
      ],
      "execution_count": 3,
      "outputs": []
    },
    {
      "cell_type": "markdown",
      "metadata": {
        "id": "otIC6WhGeh9v"
      },
      "source": [
        "Split the labeled data into a training set and a validation set, you can modify the variable `VAL_RATIO` to change the ratio of validation data."
      ]
    },
    {
      "cell_type": "code",
      "metadata": {
        "colab": {
          "base_uri": "https://localhost:8080/"
        },
        "id": "sYqi_lAuvC59",
        "outputId": "915d7b1f-bdc1-46bc-933b-9e0263a2d916"
      },
      "source": [
        "VAL_RATIO = 0.2\n",
        "\n",
        "percent = int(train.shape[0] * (1 - VAL_RATIO))\n",
        "train_x, train_y, val_x, val_y = train[:percent], train_label[:percent], train[percent:], train_label[percent:]\n",
        "print('Size of training set: {}'.format(train_x.shape))\n",
        "print('Size of validation set: {}'.format(val_x.shape))"
      ],
      "execution_count": 4,
      "outputs": [
        {
          "output_type": "stream",
          "name": "stdout",
          "text": [
            "Size of training set: (983945, 429)\n",
            "Size of validation set: (245987, 429)\n"
          ]
        }
      ]
    },
    {
      "cell_type": "markdown",
      "metadata": {
        "id": "nbCfclUIgMTX"
      },
      "source": [
        "Create a data loader from the dataset, feel free to tweak the variable `BATCH_SIZE` here."
      ]
    },
    {
      "cell_type": "code",
      "metadata": {
        "id": "RUCbQvqJurYc"
      },
      "source": [
        "BATCH_SIZE = 128\n",
        "\n",
        "from torch.utils.data import DataLoader\n",
        "\n",
        "train_set = TIMITDataset(train_x, train_y)\n",
        "val_set = TIMITDataset(val_x, val_y)\n",
        "train_loader = DataLoader(train_set, batch_size=BATCH_SIZE, shuffle=True) #only shuffle the training data\n",
        "val_loader = DataLoader(val_set, batch_size=BATCH_SIZE, shuffle=False)"
      ],
      "execution_count": 5,
      "outputs": []
    },
    {
      "cell_type": "markdown",
      "metadata": {
        "id": "_SY7X0lUgb50"
      },
      "source": [
        "Cleanup the unneeded variables to save memory.<br>\n",
        "\n",
        "**notes: if you need to use these variables later, then you may remove this block or clean up unneeded variables later<br>the data size is quite huge, so be aware of memory usage in colab**"
      ]
    },
    {
      "cell_type": "code",
      "metadata": {
        "colab": {
          "base_uri": "https://localhost:8080/"
        },
        "id": "y8rzkGraeYeN",
        "outputId": "91333b21-bfe3-4e5c-b58e-1f372bf7229a"
      },
      "source": [
        "import gc\n",
        "\n",
        "del train, train_label, train_x, train_y, val_x, val_y\n",
        "gc.collect()"
      ],
      "execution_count": 6,
      "outputs": [
        {
          "output_type": "execute_result",
          "data": {
            "text/plain": [
              "30"
            ]
          },
          "metadata": {},
          "execution_count": 6
        }
      ]
    },
    {
      "cell_type": "markdown",
      "metadata": {
        "id": "IRqKNvNZwe3V"
      },
      "source": [
        "## Create Model"
      ]
    },
    {
      "cell_type": "markdown",
      "metadata": {
        "id": "FYr1ng5fh9pA"
      },
      "source": [
        "Define model architecture, you are encouraged to change and experiment with the model architecture."
      ]
    },
    {
      "cell_type": "code",
      "metadata": {
        "id": "lbZrwT6Ny0XL"
      },
      "source": [
        "import torch\n",
        "import torch.nn as nn\n",
        "\n",
        "class Classifier(nn.Module):\n",
        "    def __init__(self):\n",
        "        super(Classifier, self).__init__()\n",
        "        # self.layer1 = nn.Linear(429, 1024)\n",
        "        # self.layer2 = nn.Linear(1024, 512)\n",
        "        # self.layer3 = nn.Linear(512, 128)\n",
        "        # self.out = nn.Linear(128, 39)\n",
        "\n",
        "        # self.act_fn = nn.Sigmoid()\n",
        "        self.fc1 = nn.Linear(429, 1024)\n",
        "        self.bn1 = nn.BatchNorm1d(1024)\n",
        "        self.drop1 = nn.Dropout(0.3)\n",
        "\n",
        "        self.fc2 = nn.Linear(1024, 512)\n",
        "        self.bn2 = nn.BatchNorm1d(512)\n",
        "        self.drop2 = nn.Dropout(0.3)\n",
        "\n",
        "        self.fc3 = nn.Linear(512, 128)\n",
        "        self.bn3 = nn.BatchNorm1d(128)\n",
        "        self.drop3 = nn.Dropout(0.3)\n",
        "\n",
        "        self.out = nn.Linear(128, 39)\n",
        "        self.act_fn = nn.ReLU()\n",
        "\n",
        "    def forward(self, x):\n",
        "        # x = self.layer1(x)\n",
        "        # x = self.act_fn(x)\n",
        "\n",
        "        # x = self.layer2(x)\n",
        "        # x = self.act_fn(x)\n",
        "\n",
        "        # x = self.layer3(x)\n",
        "        # x = self.act_fn(x)\n",
        "\n",
        "        # x = self.out(x)\n",
        "\n",
        "        x = self.fc1(x)\n",
        "        x = self.bn1(x)\n",
        "        x = self.act_fn(x)\n",
        "        x = self.drop1(x)\n",
        "\n",
        "        x = self.fc2(x)\n",
        "        x = self.bn2(x)\n",
        "        x = self.act_fn(x)\n",
        "        x = self.drop2(x)\n",
        "\n",
        "        x = self.fc3(x)\n",
        "        x = self.bn3(x)\n",
        "        x = self.act_fn(x)\n",
        "        x = self.drop3(x)\n",
        "\n",
        "        x = self.out(x)\n",
        "        return x\n",
        "\n",
        "        return x"
      ],
      "execution_count": 12,
      "outputs": []
    },
    {
      "cell_type": "markdown",
      "metadata": {
        "id": "VRYciXZvPbYh"
      },
      "source": [
        "## Training"
      ]
    },
    {
      "cell_type": "code",
      "metadata": {
        "id": "y114Vmm3Ja6o"
      },
      "source": [
        "#check device\n",
        "def get_device():\n",
        "  return 'cuda' if torch.cuda.is_available() else 'cpu'"
      ],
      "execution_count": 13,
      "outputs": []
    },
    {
      "cell_type": "markdown",
      "metadata": {
        "id": "sEX-yjHjhGuH"
      },
      "source": [
        "Fix random seeds for reproducibility."
      ]
    },
    {
      "cell_type": "code",
      "metadata": {
        "id": "88xPiUnm0tAd"
      },
      "source": [
        "# fix random seed\n",
        "def same_seeds(seed):\n",
        "    torch.manual_seed(seed)\n",
        "    if torch.cuda.is_available():\n",
        "        torch.cuda.manual_seed(seed)\n",
        "        torch.cuda.manual_seed_all(seed)\n",
        "    np.random.seed(seed)\n",
        "    torch.backends.cudnn.benchmark = False\n",
        "    torch.backends.cudnn.deterministic = True"
      ],
      "execution_count": 14,
      "outputs": []
    },
    {
      "cell_type": "markdown",
      "metadata": {
        "id": "KbBcBXkSp6RA"
      },
      "source": [
        "Feel free to change the training parameters here."
      ]
    },
    {
      "cell_type": "code",
      "metadata": {
        "id": "QTp3ZXg1yO9Y",
        "outputId": "463f7a59-1bf4-4beb-ef16-501dc344d6e1",
        "colab": {
          "base_uri": "https://localhost:8080/"
        }
      },
      "source": [
        "# fix random seed for reproducibility\n",
        "same_seeds(0)\n",
        "\n",
        "# get device\n",
        "device = get_device()\n",
        "print(f'DEVICE: {device}')\n",
        "\n",
        "# training parameters\n",
        "num_epoch = 50               # number of training epoch\n",
        "learning_rate = 0.001       # learning rate\n",
        "\n",
        "# the path where checkpoint saved\n",
        "model_path = './model.ckpt'\n",
        "\n",
        "# create model, define a loss function, and optimizer\n",
        "model = Classifier().to(device)\n",
        "criterion = nn.CrossEntropyLoss()\n",
        "optimizer = torch.optim.Adam(model.parameters(), lr=learning_rate,weight_decay=1e-5)"
      ],
      "execution_count": 15,
      "outputs": [
        {
          "output_type": "stream",
          "name": "stdout",
          "text": [
            "DEVICE: cuda\n"
          ]
        }
      ]
    },
    {
      "cell_type": "code",
      "metadata": {
        "id": "CdMWsBs7zzNs",
        "colab": {
          "base_uri": "https://localhost:8080/"
        },
        "outputId": "d909bfb3-c6d0-461c-bfe9-6f6dc5746329"
      },
      "source": [
        "# start training\n",
        "\n",
        "best_acc = 0.0\n",
        "for epoch in range(num_epoch):\n",
        "    train_acc = 0.0\n",
        "    train_loss = 0.0\n",
        "    val_acc = 0.0\n",
        "    val_loss = 0.0\n",
        "\n",
        "    # training\n",
        "    model.train() # set the model to training mode\n",
        "    for i, data in enumerate(train_loader):\n",
        "        inputs, labels = data\n",
        "        inputs, labels = inputs.to(device), labels.to(device)\n",
        "        optimizer.zero_grad()\n",
        "        outputs = model(inputs)\n",
        "        batch_loss = criterion(outputs, labels)\n",
        "        _, train_pred = torch.max(outputs, 1) # get the index of the class with the highest probability\n",
        "        batch_loss.backward()\n",
        "        optimizer.step()\n",
        "\n",
        "        train_acc += (train_pred.cpu() == labels.cpu()).sum().item()\n",
        "        train_loss += batch_loss.item()\n",
        "\n",
        "    # validation\n",
        "    if len(val_set) > 0:\n",
        "        model.eval() # set the model to evaluation mode\n",
        "        with torch.no_grad():\n",
        "            for i, data in enumerate(val_loader):\n",
        "                inputs, labels = data\n",
        "                inputs, labels = inputs.to(device), labels.to(device)\n",
        "                outputs = model(inputs)\n",
        "                batch_loss = criterion(outputs, labels)\n",
        "                _, val_pred = torch.max(outputs, 1)\n",
        "\n",
        "                val_acc += (val_pred.cpu() == labels.cpu()).sum().item() # get the index of the class with the highest probability\n",
        "                val_loss += batch_loss.item()\n",
        "\n",
        "            print('[{:03d}/{:03d}] Train Acc: {:3.6f} Loss: {:3.6f} | Val Acc: {:3.6f} loss: {:3.6f}'.format(\n",
        "                epoch + 1, num_epoch, train_acc/len(train_set), train_loss/len(train_loader), val_acc/len(val_set), val_loss/len(val_loader)\n",
        "            ))\n",
        "\n",
        "            # if the model improves, save a checkpoint at this epoch\n",
        "            if val_acc > best_acc:\n",
        "                best_acc = val_acc\n",
        "                torch.save(model.state_dict(), model_path)\n",
        "                print('saving model with acc {:.3f}'.format(best_acc/len(val_set)))\n",
        "    else:\n",
        "        print('[{:03d}/{:03d}] Train Acc: {:3.6f} Loss: {:3.6f}'.format(\n",
        "            epoch + 1, num_epoch, train_acc/len(train_set), train_loss/len(train_loader)\n",
        "        ))\n",
        "\n",
        "# if not validating, save the last epoch\n",
        "if len(val_set) == 0:\n",
        "    torch.save(model.state_dict(), model_path)\n",
        "    print('saving model at last epoch')\n"
      ],
      "execution_count": 16,
      "outputs": [
        {
          "output_type": "stream",
          "name": "stdout",
          "text": [
            "[001/050] Train Acc: 0.585658 Loss: 1.350829 | Val Acc: 0.680422 loss: 1.002524\n",
            "saving model with acc 0.680\n",
            "[002/050] Train Acc: 0.639534 Loss: 1.151193 | Val Acc: 0.698574 loss: 0.931460\n",
            "saving model with acc 0.699\n",
            "[003/050] Train Acc: 0.656424 Loss: 1.089758 | Val Acc: 0.710245 loss: 0.891443\n",
            "saving model with acc 0.710\n",
            "[004/050] Train Acc: 0.665697 Loss: 1.055532 | Val Acc: 0.715652 loss: 0.870955\n",
            "saving model with acc 0.716\n",
            "[005/050] Train Acc: 0.671396 Loss: 1.032358 | Val Acc: 0.718018 loss: 0.859419\n",
            "saving model with acc 0.718\n",
            "[006/050] Train Acc: 0.676262 Loss: 1.017539 | Val Acc: 0.721115 loss: 0.851202\n",
            "saving model with acc 0.721\n",
            "[007/050] Train Acc: 0.679716 Loss: 1.003654 | Val Acc: 0.723693 loss: 0.838284\n",
            "saving model with acc 0.724\n",
            "[008/050] Train Acc: 0.681771 Loss: 0.995689 | Val Acc: 0.724644 loss: 0.835000\n",
            "saving model with acc 0.725\n",
            "[009/050] Train Acc: 0.683978 Loss: 0.988580 | Val Acc: 0.727091 loss: 0.828265\n",
            "saving model with acc 0.727\n",
            "[010/050] Train Acc: 0.686289 Loss: 0.980342 | Val Acc: 0.725656 loss: 0.832391\n",
            "[011/050] Train Acc: 0.687200 Loss: 0.975380 | Val Acc: 0.727152 loss: 0.827900\n",
            "saving model with acc 0.727\n",
            "[012/050] Train Acc: 0.688093 Loss: 0.971621 | Val Acc: 0.729299 loss: 0.822421\n",
            "saving model with acc 0.729\n",
            "[013/050] Train Acc: 0.689355 Loss: 0.968277 | Val Acc: 0.729831 loss: 0.819235\n",
            "saving model with acc 0.730\n",
            "[014/050] Train Acc: 0.689776 Loss: 0.965614 | Val Acc: 0.728551 loss: 0.822732\n",
            "[015/050] Train Acc: 0.690574 Loss: 0.962790 | Val Acc: 0.730144 loss: 0.815367\n",
            "saving model with acc 0.730\n",
            "[016/050] Train Acc: 0.691487 Loss: 0.958621 | Val Acc: 0.729030 loss: 0.817391\n",
            "[017/050] Train Acc: 0.692428 Loss: 0.956729 | Val Acc: 0.731596 loss: 0.810384\n",
            "saving model with acc 0.732\n",
            "[018/050] Train Acc: 0.692968 Loss: 0.954863 | Val Acc: 0.728803 loss: 0.817310\n",
            "[019/050] Train Acc: 0.693499 Loss: 0.951644 | Val Acc: 0.733579 loss: 0.805746\n",
            "saving model with acc 0.734\n",
            "[020/050] Train Acc: 0.693215 Loss: 0.952071 | Val Acc: 0.732283 loss: 0.810281\n",
            "[021/050] Train Acc: 0.694371 Loss: 0.949614 | Val Acc: 0.731425 loss: 0.812764\n",
            "[022/050] Train Acc: 0.694877 Loss: 0.947514 | Val Acc: 0.731502 loss: 0.815553\n",
            "[023/050] Train Acc: 0.694951 Loss: 0.946636 | Val Acc: 0.731770 loss: 0.809092\n",
            "[024/050] Train Acc: 0.695428 Loss: 0.945046 | Val Acc: 0.733437 loss: 0.805273\n",
            "[025/050] Train Acc: 0.695834 Loss: 0.943733 | Val Acc: 0.734474 loss: 0.803809\n",
            "saving model with acc 0.734\n",
            "[026/050] Train Acc: 0.696413 Loss: 0.942383 | Val Acc: 0.733514 loss: 0.805652\n",
            "[027/050] Train Acc: 0.695976 Loss: 0.942661 | Val Acc: 0.733718 loss: 0.804558\n",
            "[028/050] Train Acc: 0.696146 Loss: 0.941647 | Val Acc: 0.732075 loss: 0.808973\n",
            "[029/050] Train Acc: 0.697004 Loss: 0.939777 | Val Acc: 0.733514 loss: 0.803692\n",
            "[030/050] Train Acc: 0.696734 Loss: 0.939106 | Val Acc: 0.733669 loss: 0.803960\n",
            "[031/050] Train Acc: 0.696929 Loss: 0.939500 | Val Acc: 0.734689 loss: 0.803268\n",
            "saving model with acc 0.735\n",
            "[032/050] Train Acc: 0.697237 Loss: 0.937137 | Val Acc: 0.734827 loss: 0.800618\n",
            "saving model with acc 0.735\n",
            "[033/050] Train Acc: 0.697774 Loss: 0.936595 | Val Acc: 0.734161 loss: 0.803695\n",
            "[034/050] Train Acc: 0.697832 Loss: 0.936882 | Val Acc: 0.735246 loss: 0.802586\n",
            "saving model with acc 0.735\n",
            "[035/050] Train Acc: 0.698811 Loss: 0.935139 | Val Acc: 0.735832 loss: 0.798295\n",
            "saving model with acc 0.736\n",
            "[036/050] Train Acc: 0.698345 Loss: 0.934161 | Val Acc: 0.733746 loss: 0.806640\n",
            "[037/050] Train Acc: 0.698139 Loss: 0.934284 | Val Acc: 0.733620 loss: 0.805684\n",
            "[038/050] Train Acc: 0.698710 Loss: 0.933165 | Val Acc: 0.733429 loss: 0.803265\n",
            "[039/050] Train Acc: 0.698688 Loss: 0.931633 | Val Acc: 0.735189 loss: 0.800987\n",
            "[040/050] Train Acc: 0.699392 Loss: 0.932725 | Val Acc: 0.734482 loss: 0.804863\n",
            "[041/050] Train Acc: 0.698402 Loss: 0.932452 | Val Acc: 0.735332 loss: 0.802195\n",
            "[042/050] Train Acc: 0.699539 Loss: 0.931100 | Val Acc: 0.735352 loss: 0.800157\n",
            "[043/050] Train Acc: 0.699210 Loss: 0.930709 | Val Acc: 0.734714 loss: 0.803507\n",
            "[044/050] Train Acc: 0.699422 Loss: 0.930458 | Val Acc: 0.735441 loss: 0.799633\n",
            "[045/050] Train Acc: 0.699584 Loss: 0.930772 | Val Acc: 0.736002 loss: 0.798275\n",
            "saving model with acc 0.736\n",
            "[046/050] Train Acc: 0.699861 Loss: 0.929611 | Val Acc: 0.734974 loss: 0.800388\n",
            "[047/050] Train Acc: 0.699749 Loss: 0.929398 | Val Acc: 0.735767 loss: 0.797012\n",
            "[048/050] Train Acc: 0.699856 Loss: 0.928674 | Val Acc: 0.734506 loss: 0.801336\n",
            "[049/050] Train Acc: 0.700445 Loss: 0.927908 | Val Acc: 0.734104 loss: 0.803145\n",
            "[050/050] Train Acc: 0.699397 Loss: 0.929432 | Val Acc: 0.737616 loss: 0.796413\n",
            "saving model with acc 0.738\n"
          ]
        }
      ]
    },
    {
      "cell_type": "markdown",
      "metadata": {
        "id": "1Hi7jTn3PX-m"
      },
      "source": [
        "## Testing"
      ]
    },
    {
      "cell_type": "markdown",
      "metadata": {
        "id": "NfUECMFCn5VG"
      },
      "source": [
        "Create a testing dataset, and load model from the saved checkpoint."
      ]
    },
    {
      "cell_type": "code",
      "metadata": {
        "id": "1PKjtAScPWtr",
        "colab": {
          "base_uri": "https://localhost:8080/"
        },
        "outputId": "78c51708-cf73-4ee9-dff0-774fa4de392a"
      },
      "source": [
        "# create testing dataset\n",
        "test_set = TIMITDataset(test, None)\n",
        "test_loader = DataLoader(test_set, batch_size=BATCH_SIZE, shuffle=False)\n",
        "\n",
        "# create model and load weights from checkpoint\n",
        "model = Classifier().to(device)\n",
        "model.load_state_dict(torch.load(model_path))"
      ],
      "execution_count": 17,
      "outputs": [
        {
          "output_type": "execute_result",
          "data": {
            "text/plain": [
              "<All keys matched successfully>"
            ]
          },
          "metadata": {},
          "execution_count": 17
        }
      ]
    },
    {
      "cell_type": "markdown",
      "metadata": {
        "id": "940TtCCdoYd0"
      },
      "source": [
        "Make prediction."
      ]
    },
    {
      "cell_type": "code",
      "metadata": {
        "id": "84HU5GGjPqR0"
      },
      "source": [
        "predict = []\n",
        "model.eval() # set the model to evaluation mode\n",
        "with torch.no_grad():\n",
        "    for i, data in enumerate(test_loader):\n",
        "        inputs = data\n",
        "        inputs = inputs.to(device)\n",
        "        outputs = model(inputs)\n",
        "        _, test_pred = torch.max(outputs, 1) # get the index of the class with the highest probability\n",
        "\n",
        "        for y in test_pred.cpu().numpy():\n",
        "            predict.append(y)"
      ],
      "execution_count": 18,
      "outputs": []
    },
    {
      "cell_type": "markdown",
      "metadata": {
        "id": "AWDf_C-omElb"
      },
      "source": [
        "Write prediction to a CSV file.\n",
        "\n",
        "After finish running this block, download the file `prediction.csv` from the files section on the left-hand side and submit it to Kaggle."
      ]
    },
    {
      "cell_type": "code",
      "metadata": {
        "id": "GuljYSPHcZir"
      },
      "source": [
        "with open('prediction.csv', 'w') as f:\n",
        "    f.write('Id,Class\\n')\n",
        "    for i, y in enumerate(predict):\n",
        "        f.write('{},{}\\n'.format(i, y))"
      ],
      "execution_count": 19,
      "outputs": []
    }
  ]
}